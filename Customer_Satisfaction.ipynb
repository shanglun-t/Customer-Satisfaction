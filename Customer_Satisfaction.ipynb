{
 "cells": [
  {
   "cell_type": "markdown",
   "metadata": {},
   "source": [
    "## Customer Satisfaction"
   ]
  },
  {
   "cell_type": "markdown",
   "metadata": {},
   "source": [
    "### Data Introduction"
   ]
  },
  {
   "cell_type": "markdown",
   "metadata": {},
   "source": [
    "Data contains 370 features of 76020 customers, the object is to identified the relationship between feature and satisfaction."
   ]
  },
  {
   "cell_type": "markdown",
   "metadata": {},
   "source": [
    "Roadmap:\n",
    "\n",
    "1. Feature Analysis\n",
    "2. Dimentionality reduction\n",
    "3. Filtering outliers\n",
    "4. Train-test split\n",
    "5. Modeling: XGBoost Classifier - Fit model with early-stopping \n",
    "   "
   ]
  },
  {
   "cell_type": "markdown",
   "metadata": {},
   "source": [
    "### Load and Explore the Data"
   ]
  },
  {
   "cell_type": "code",
   "execution_count": 1,
   "metadata": {},
   "outputs": [],
   "source": [
    "import pandas as pd\n",
    "import numpy as np \n",
    "import seaborn as sns\n",
    "from matplotlib import pyplot as plt"
   ]
  },
  {
   "cell_type": "code",
   "execution_count": 2,
   "metadata": {},
   "outputs": [],
   "source": [
    "train_set = pd.read_csv('train.csv') \n",
    "test_set = pd.read_csv('test.csv')"
   ]
  },
  {
   "cell_type": "code",
   "execution_count": 3,
   "metadata": {},
   "outputs": [
    {
     "data": {
      "text/html": [
       "<div>\n",
       "<style scoped>\n",
       "    .dataframe tbody tr th:only-of-type {\n",
       "        vertical-align: middle;\n",
       "    }\n",
       "\n",
       "    .dataframe tbody tr th {\n",
       "        vertical-align: top;\n",
       "    }\n",
       "\n",
       "    .dataframe thead th {\n",
       "        text-align: right;\n",
       "    }\n",
       "</style>\n",
       "<table border=\"1\" class=\"dataframe\">\n",
       "  <thead>\n",
       "    <tr style=\"text-align: right;\">\n",
       "      <th></th>\n",
       "      <th>ID</th>\n",
       "      <th>var3</th>\n",
       "      <th>var15</th>\n",
       "      <th>imp_ent_var16_ult1</th>\n",
       "      <th>imp_op_var39_comer_ult1</th>\n",
       "      <th>imp_op_var39_comer_ult3</th>\n",
       "      <th>imp_op_var40_comer_ult1</th>\n",
       "      <th>imp_op_var40_comer_ult3</th>\n",
       "      <th>imp_op_var40_efect_ult1</th>\n",
       "      <th>imp_op_var40_efect_ult3</th>\n",
       "      <th>...</th>\n",
       "      <th>saldo_medio_var33_hace2</th>\n",
       "      <th>saldo_medio_var33_hace3</th>\n",
       "      <th>saldo_medio_var33_ult1</th>\n",
       "      <th>saldo_medio_var33_ult3</th>\n",
       "      <th>saldo_medio_var44_hace2</th>\n",
       "      <th>saldo_medio_var44_hace3</th>\n",
       "      <th>saldo_medio_var44_ult1</th>\n",
       "      <th>saldo_medio_var44_ult3</th>\n",
       "      <th>var38</th>\n",
       "      <th>TARGET</th>\n",
       "    </tr>\n",
       "  </thead>\n",
       "  <tbody>\n",
       "    <tr>\n",
       "      <th>0</th>\n",
       "      <td>1</td>\n",
       "      <td>2</td>\n",
       "      <td>23</td>\n",
       "      <td>0.0</td>\n",
       "      <td>0.0</td>\n",
       "      <td>0.0</td>\n",
       "      <td>0.0</td>\n",
       "      <td>0.0</td>\n",
       "      <td>0.0</td>\n",
       "      <td>0.0</td>\n",
       "      <td>...</td>\n",
       "      <td>0.0</td>\n",
       "      <td>0.0</td>\n",
       "      <td>0.0</td>\n",
       "      <td>0.0</td>\n",
       "      <td>0.0</td>\n",
       "      <td>0.0</td>\n",
       "      <td>0.0</td>\n",
       "      <td>0.0</td>\n",
       "      <td>39205.170000</td>\n",
       "      <td>0</td>\n",
       "    </tr>\n",
       "    <tr>\n",
       "      <th>1</th>\n",
       "      <td>3</td>\n",
       "      <td>2</td>\n",
       "      <td>34</td>\n",
       "      <td>0.0</td>\n",
       "      <td>0.0</td>\n",
       "      <td>0.0</td>\n",
       "      <td>0.0</td>\n",
       "      <td>0.0</td>\n",
       "      <td>0.0</td>\n",
       "      <td>0.0</td>\n",
       "      <td>...</td>\n",
       "      <td>0.0</td>\n",
       "      <td>0.0</td>\n",
       "      <td>0.0</td>\n",
       "      <td>0.0</td>\n",
       "      <td>0.0</td>\n",
       "      <td>0.0</td>\n",
       "      <td>0.0</td>\n",
       "      <td>0.0</td>\n",
       "      <td>49278.030000</td>\n",
       "      <td>0</td>\n",
       "    </tr>\n",
       "    <tr>\n",
       "      <th>2</th>\n",
       "      <td>4</td>\n",
       "      <td>2</td>\n",
       "      <td>23</td>\n",
       "      <td>0.0</td>\n",
       "      <td>0.0</td>\n",
       "      <td>0.0</td>\n",
       "      <td>0.0</td>\n",
       "      <td>0.0</td>\n",
       "      <td>0.0</td>\n",
       "      <td>0.0</td>\n",
       "      <td>...</td>\n",
       "      <td>0.0</td>\n",
       "      <td>0.0</td>\n",
       "      <td>0.0</td>\n",
       "      <td>0.0</td>\n",
       "      <td>0.0</td>\n",
       "      <td>0.0</td>\n",
       "      <td>0.0</td>\n",
       "      <td>0.0</td>\n",
       "      <td>67333.770000</td>\n",
       "      <td>0</td>\n",
       "    </tr>\n",
       "    <tr>\n",
       "      <th>3</th>\n",
       "      <td>8</td>\n",
       "      <td>2</td>\n",
       "      <td>37</td>\n",
       "      <td>0.0</td>\n",
       "      <td>195.0</td>\n",
       "      <td>195.0</td>\n",
       "      <td>0.0</td>\n",
       "      <td>0.0</td>\n",
       "      <td>0.0</td>\n",
       "      <td>0.0</td>\n",
       "      <td>...</td>\n",
       "      <td>0.0</td>\n",
       "      <td>0.0</td>\n",
       "      <td>0.0</td>\n",
       "      <td>0.0</td>\n",
       "      <td>0.0</td>\n",
       "      <td>0.0</td>\n",
       "      <td>0.0</td>\n",
       "      <td>0.0</td>\n",
       "      <td>64007.970000</td>\n",
       "      <td>0</td>\n",
       "    </tr>\n",
       "    <tr>\n",
       "      <th>4</th>\n",
       "      <td>10</td>\n",
       "      <td>2</td>\n",
       "      <td>39</td>\n",
       "      <td>0.0</td>\n",
       "      <td>0.0</td>\n",
       "      <td>0.0</td>\n",
       "      <td>0.0</td>\n",
       "      <td>0.0</td>\n",
       "      <td>0.0</td>\n",
       "      <td>0.0</td>\n",
       "      <td>...</td>\n",
       "      <td>0.0</td>\n",
       "      <td>0.0</td>\n",
       "      <td>0.0</td>\n",
       "      <td>0.0</td>\n",
       "      <td>0.0</td>\n",
       "      <td>0.0</td>\n",
       "      <td>0.0</td>\n",
       "      <td>0.0</td>\n",
       "      <td>117310.979016</td>\n",
       "      <td>0</td>\n",
       "    </tr>\n",
       "  </tbody>\n",
       "</table>\n",
       "<p>5 rows × 371 columns</p>\n",
       "</div>"
      ],
      "text/plain": [
       "   ID  var3  var15  imp_ent_var16_ult1  imp_op_var39_comer_ult1  \\\n",
       "0   1     2     23                 0.0                      0.0   \n",
       "1   3     2     34                 0.0                      0.0   \n",
       "2   4     2     23                 0.0                      0.0   \n",
       "3   8     2     37                 0.0                    195.0   \n",
       "4  10     2     39                 0.0                      0.0   \n",
       "\n",
       "   imp_op_var39_comer_ult3  imp_op_var40_comer_ult1  imp_op_var40_comer_ult3  \\\n",
       "0                      0.0                      0.0                      0.0   \n",
       "1                      0.0                      0.0                      0.0   \n",
       "2                      0.0                      0.0                      0.0   \n",
       "3                    195.0                      0.0                      0.0   \n",
       "4                      0.0                      0.0                      0.0   \n",
       "\n",
       "   imp_op_var40_efect_ult1  imp_op_var40_efect_ult3   ...    \\\n",
       "0                      0.0                      0.0   ...     \n",
       "1                      0.0                      0.0   ...     \n",
       "2                      0.0                      0.0   ...     \n",
       "3                      0.0                      0.0   ...     \n",
       "4                      0.0                      0.0   ...     \n",
       "\n",
       "   saldo_medio_var33_hace2  saldo_medio_var33_hace3  saldo_medio_var33_ult1  \\\n",
       "0                      0.0                      0.0                     0.0   \n",
       "1                      0.0                      0.0                     0.0   \n",
       "2                      0.0                      0.0                     0.0   \n",
       "3                      0.0                      0.0                     0.0   \n",
       "4                      0.0                      0.0                     0.0   \n",
       "\n",
       "   saldo_medio_var33_ult3  saldo_medio_var44_hace2  saldo_medio_var44_hace3  \\\n",
       "0                     0.0                      0.0                      0.0   \n",
       "1                     0.0                      0.0                      0.0   \n",
       "2                     0.0                      0.0                      0.0   \n",
       "3                     0.0                      0.0                      0.0   \n",
       "4                     0.0                      0.0                      0.0   \n",
       "\n",
       "   saldo_medio_var44_ult1  saldo_medio_var44_ult3          var38  TARGET  \n",
       "0                     0.0                     0.0   39205.170000       0  \n",
       "1                     0.0                     0.0   49278.030000       0  \n",
       "2                     0.0                     0.0   67333.770000       0  \n",
       "3                     0.0                     0.0   64007.970000       0  \n",
       "4                     0.0                     0.0  117310.979016       0  \n",
       "\n",
       "[5 rows x 371 columns]"
      ]
     },
     "execution_count": 3,
     "metadata": {},
     "output_type": "execute_result"
    }
   ],
   "source": [
    "train_set.head()"
   ]
  },
  {
   "cell_type": "code",
   "execution_count": 4,
   "metadata": {},
   "outputs": [
    {
     "data": {
      "text/plain": [
       "(76020, 371)"
      ]
     },
     "execution_count": 4,
     "metadata": {},
     "output_type": "execute_result"
    }
   ],
   "source": [
    "train_set.shape"
   ]
  },
  {
   "cell_type": "code",
   "execution_count": 5,
   "metadata": {},
   "outputs": [
    {
     "data": {
      "text/html": [
       "<div>\n",
       "<style scoped>\n",
       "    .dataframe tbody tr th:only-of-type {\n",
       "        vertical-align: middle;\n",
       "    }\n",
       "\n",
       "    .dataframe tbody tr th {\n",
       "        vertical-align: top;\n",
       "    }\n",
       "\n",
       "    .dataframe thead th {\n",
       "        text-align: right;\n",
       "    }\n",
       "</style>\n",
       "<table border=\"1\" class=\"dataframe\">\n",
       "  <thead>\n",
       "    <tr style=\"text-align: right;\">\n",
       "      <th></th>\n",
       "      <th>ID</th>\n",
       "      <th>var3</th>\n",
       "      <th>var15</th>\n",
       "      <th>imp_ent_var16_ult1</th>\n",
       "      <th>imp_op_var39_comer_ult1</th>\n",
       "      <th>imp_op_var39_comer_ult3</th>\n",
       "      <th>imp_op_var40_comer_ult1</th>\n",
       "      <th>imp_op_var40_comer_ult3</th>\n",
       "      <th>imp_op_var40_efect_ult1</th>\n",
       "      <th>imp_op_var40_efect_ult3</th>\n",
       "      <th>...</th>\n",
       "      <th>saldo_medio_var29_ult3</th>\n",
       "      <th>saldo_medio_var33_hace2</th>\n",
       "      <th>saldo_medio_var33_hace3</th>\n",
       "      <th>saldo_medio_var33_ult1</th>\n",
       "      <th>saldo_medio_var33_ult3</th>\n",
       "      <th>saldo_medio_var44_hace2</th>\n",
       "      <th>saldo_medio_var44_hace3</th>\n",
       "      <th>saldo_medio_var44_ult1</th>\n",
       "      <th>saldo_medio_var44_ult3</th>\n",
       "      <th>var38</th>\n",
       "    </tr>\n",
       "  </thead>\n",
       "  <tbody>\n",
       "    <tr>\n",
       "      <th>0</th>\n",
       "      <td>2</td>\n",
       "      <td>2</td>\n",
       "      <td>32</td>\n",
       "      <td>0.0</td>\n",
       "      <td>0.0</td>\n",
       "      <td>0.0</td>\n",
       "      <td>0.0</td>\n",
       "      <td>0.0</td>\n",
       "      <td>0.0</td>\n",
       "      <td>0.0</td>\n",
       "      <td>...</td>\n",
       "      <td>0.0</td>\n",
       "      <td>0.0</td>\n",
       "      <td>0.0</td>\n",
       "      <td>0.0</td>\n",
       "      <td>0.0</td>\n",
       "      <td>0.0</td>\n",
       "      <td>0.0</td>\n",
       "      <td>0.0</td>\n",
       "      <td>0.0</td>\n",
       "      <td>40532.10</td>\n",
       "    </tr>\n",
       "    <tr>\n",
       "      <th>1</th>\n",
       "      <td>5</td>\n",
       "      <td>2</td>\n",
       "      <td>35</td>\n",
       "      <td>0.0</td>\n",
       "      <td>0.0</td>\n",
       "      <td>0.0</td>\n",
       "      <td>0.0</td>\n",
       "      <td>0.0</td>\n",
       "      <td>0.0</td>\n",
       "      <td>0.0</td>\n",
       "      <td>...</td>\n",
       "      <td>0.0</td>\n",
       "      <td>0.0</td>\n",
       "      <td>0.0</td>\n",
       "      <td>0.0</td>\n",
       "      <td>0.0</td>\n",
       "      <td>0.0</td>\n",
       "      <td>0.0</td>\n",
       "      <td>0.0</td>\n",
       "      <td>0.0</td>\n",
       "      <td>45486.72</td>\n",
       "    </tr>\n",
       "    <tr>\n",
       "      <th>2</th>\n",
       "      <td>6</td>\n",
       "      <td>2</td>\n",
       "      <td>23</td>\n",
       "      <td>0.0</td>\n",
       "      <td>0.0</td>\n",
       "      <td>0.0</td>\n",
       "      <td>0.0</td>\n",
       "      <td>0.0</td>\n",
       "      <td>0.0</td>\n",
       "      <td>0.0</td>\n",
       "      <td>...</td>\n",
       "      <td>0.0</td>\n",
       "      <td>0.0</td>\n",
       "      <td>0.0</td>\n",
       "      <td>0.0</td>\n",
       "      <td>0.0</td>\n",
       "      <td>0.0</td>\n",
       "      <td>0.0</td>\n",
       "      <td>0.0</td>\n",
       "      <td>0.0</td>\n",
       "      <td>46993.95</td>\n",
       "    </tr>\n",
       "    <tr>\n",
       "      <th>3</th>\n",
       "      <td>7</td>\n",
       "      <td>2</td>\n",
       "      <td>24</td>\n",
       "      <td>0.0</td>\n",
       "      <td>0.0</td>\n",
       "      <td>0.0</td>\n",
       "      <td>0.0</td>\n",
       "      <td>0.0</td>\n",
       "      <td>0.0</td>\n",
       "      <td>0.0</td>\n",
       "      <td>...</td>\n",
       "      <td>0.0</td>\n",
       "      <td>0.0</td>\n",
       "      <td>0.0</td>\n",
       "      <td>0.0</td>\n",
       "      <td>0.0</td>\n",
       "      <td>0.0</td>\n",
       "      <td>0.0</td>\n",
       "      <td>0.0</td>\n",
       "      <td>0.0</td>\n",
       "      <td>187898.61</td>\n",
       "    </tr>\n",
       "    <tr>\n",
       "      <th>4</th>\n",
       "      <td>9</td>\n",
       "      <td>2</td>\n",
       "      <td>23</td>\n",
       "      <td>0.0</td>\n",
       "      <td>0.0</td>\n",
       "      <td>0.0</td>\n",
       "      <td>0.0</td>\n",
       "      <td>0.0</td>\n",
       "      <td>0.0</td>\n",
       "      <td>0.0</td>\n",
       "      <td>...</td>\n",
       "      <td>0.0</td>\n",
       "      <td>0.0</td>\n",
       "      <td>0.0</td>\n",
       "      <td>0.0</td>\n",
       "      <td>0.0</td>\n",
       "      <td>0.0</td>\n",
       "      <td>0.0</td>\n",
       "      <td>0.0</td>\n",
       "      <td>0.0</td>\n",
       "      <td>73649.73</td>\n",
       "    </tr>\n",
       "  </tbody>\n",
       "</table>\n",
       "<p>5 rows × 370 columns</p>\n",
       "</div>"
      ],
      "text/plain": [
       "   ID  var3  var15  imp_ent_var16_ult1  imp_op_var39_comer_ult1  \\\n",
       "0   2     2     32                 0.0                      0.0   \n",
       "1   5     2     35                 0.0                      0.0   \n",
       "2   6     2     23                 0.0                      0.0   \n",
       "3   7     2     24                 0.0                      0.0   \n",
       "4   9     2     23                 0.0                      0.0   \n",
       "\n",
       "   imp_op_var39_comer_ult3  imp_op_var40_comer_ult1  imp_op_var40_comer_ult3  \\\n",
       "0                      0.0                      0.0                      0.0   \n",
       "1                      0.0                      0.0                      0.0   \n",
       "2                      0.0                      0.0                      0.0   \n",
       "3                      0.0                      0.0                      0.0   \n",
       "4                      0.0                      0.0                      0.0   \n",
       "\n",
       "   imp_op_var40_efect_ult1  imp_op_var40_efect_ult3    ...      \\\n",
       "0                      0.0                      0.0    ...       \n",
       "1                      0.0                      0.0    ...       \n",
       "2                      0.0                      0.0    ...       \n",
       "3                      0.0                      0.0    ...       \n",
       "4                      0.0                      0.0    ...       \n",
       "\n",
       "   saldo_medio_var29_ult3  saldo_medio_var33_hace2  saldo_medio_var33_hace3  \\\n",
       "0                     0.0                      0.0                      0.0   \n",
       "1                     0.0                      0.0                      0.0   \n",
       "2                     0.0                      0.0                      0.0   \n",
       "3                     0.0                      0.0                      0.0   \n",
       "4                     0.0                      0.0                      0.0   \n",
       "\n",
       "   saldo_medio_var33_ult1  saldo_medio_var33_ult3  saldo_medio_var44_hace2  \\\n",
       "0                     0.0                     0.0                      0.0   \n",
       "1                     0.0                     0.0                      0.0   \n",
       "2                     0.0                     0.0                      0.0   \n",
       "3                     0.0                     0.0                      0.0   \n",
       "4                     0.0                     0.0                      0.0   \n",
       "\n",
       "   saldo_medio_var44_hace3  saldo_medio_var44_ult1  saldo_medio_var44_ult3  \\\n",
       "0                      0.0                     0.0                     0.0   \n",
       "1                      0.0                     0.0                     0.0   \n",
       "2                      0.0                     0.0                     0.0   \n",
       "3                      0.0                     0.0                     0.0   \n",
       "4                      0.0                     0.0                     0.0   \n",
       "\n",
       "       var38  \n",
       "0   40532.10  \n",
       "1   45486.72  \n",
       "2   46993.95  \n",
       "3  187898.61  \n",
       "4   73649.73  \n",
       "\n",
       "[5 rows x 370 columns]"
      ]
     },
     "execution_count": 5,
     "metadata": {},
     "output_type": "execute_result"
    }
   ],
   "source": [
    "test_set.head()"
   ]
  },
  {
   "cell_type": "code",
   "execution_count": 6,
   "metadata": {},
   "outputs": [
    {
     "data": {
      "text/plain": [
       "(75818, 370)"
      ]
     },
     "execution_count": 6,
     "metadata": {},
     "output_type": "execute_result"
    }
   ],
   "source": [
    "test_set.shape"
   ]
  },
  {
   "cell_type": "code",
   "execution_count": 7,
   "metadata": {
    "scrolled": true
   },
   "outputs": [
    {
     "data": {
      "text/plain": [
       "Index(['TARGET'], dtype='object')"
      ]
     },
     "execution_count": 7,
     "metadata": {},
     "output_type": "execute_result"
    }
   ],
   "source": [
    "train_set.columns.difference(test_set.columns)"
   ]
  },
  {
   "cell_type": "code",
   "execution_count": 8,
   "metadata": {},
   "outputs": [
    {
     "data": {
      "text/html": [
       "<div>\n",
       "<style scoped>\n",
       "    .dataframe tbody tr th:only-of-type {\n",
       "        vertical-align: middle;\n",
       "    }\n",
       "\n",
       "    .dataframe tbody tr th {\n",
       "        vertical-align: top;\n",
       "    }\n",
       "\n",
       "    .dataframe thead th {\n",
       "        text-align: right;\n",
       "    }\n",
       "</style>\n",
       "<table border=\"1\" class=\"dataframe\">\n",
       "  <thead>\n",
       "    <tr style=\"text-align: right;\">\n",
       "      <th></th>\n",
       "      <th>Data Type</th>\n",
       "      <th>Count</th>\n",
       "    </tr>\n",
       "  </thead>\n",
       "  <tbody>\n",
       "    <tr>\n",
       "      <th>0</th>\n",
       "      <td>int64</td>\n",
       "      <td>260</td>\n",
       "    </tr>\n",
       "    <tr>\n",
       "      <th>1</th>\n",
       "      <td>float64</td>\n",
       "      <td>111</td>\n",
       "    </tr>\n",
       "  </tbody>\n",
       "</table>\n",
       "</div>"
      ],
      "text/plain": [
       "  Data Type  Count\n",
       "0     int64    260\n",
       "1   float64    111"
      ]
     },
     "execution_count": 8,
     "metadata": {},
     "output_type": "execute_result"
    }
   ],
   "source": [
    "typedf = train_set.dtypes.reset_index()\n",
    "typedf.columns = ['Count', 'Data Type']\n",
    "typedf.groupby('Data Type').aggregate('count').reset_index()"
   ]
  },
  {
   "cell_type": "markdown",
   "metadata": {},
   "source": [
    "### Detection of NaN value"
   ]
  },
  {
   "cell_type": "code",
   "execution_count": 9,
   "metadata": {},
   "outputs": [
    {
     "data": {
      "text/plain": [
       "ID                               False\n",
       "var3                             False\n",
       "var15                            False\n",
       "imp_ent_var16_ult1               False\n",
       "imp_op_var39_comer_ult1          False\n",
       "imp_op_var39_comer_ult3          False\n",
       "imp_op_var40_comer_ult1          False\n",
       "imp_op_var40_comer_ult3          False\n",
       "imp_op_var40_efect_ult1          False\n",
       "imp_op_var40_efect_ult3          False\n",
       "imp_op_var40_ult1                False\n",
       "imp_op_var41_comer_ult1          False\n",
       "imp_op_var41_comer_ult3          False\n",
       "imp_op_var41_efect_ult1          False\n",
       "imp_op_var41_efect_ult3          False\n",
       "imp_op_var41_ult1                False\n",
       "imp_op_var39_efect_ult1          False\n",
       "imp_op_var39_efect_ult3          False\n",
       "imp_op_var39_ult1                False\n",
       "imp_sal_var16_ult1               False\n",
       "ind_var1_0                       False\n",
       "ind_var1                         False\n",
       "ind_var2_0                       False\n",
       "ind_var2                         False\n",
       "ind_var5_0                       False\n",
       "ind_var5                         False\n",
       "ind_var6_0                       False\n",
       "ind_var6                         False\n",
       "ind_var8_0                       False\n",
       "ind_var8                         False\n",
       "                                 ...  \n",
       "saldo_medio_var13_corto_hace2    False\n",
       "saldo_medio_var13_corto_hace3    False\n",
       "saldo_medio_var13_corto_ult1     False\n",
       "saldo_medio_var13_corto_ult3     False\n",
       "saldo_medio_var13_largo_hace2    False\n",
       "saldo_medio_var13_largo_hace3    False\n",
       "saldo_medio_var13_largo_ult1     False\n",
       "saldo_medio_var13_largo_ult3     False\n",
       "saldo_medio_var13_medio_hace2    False\n",
       "saldo_medio_var13_medio_hace3    False\n",
       "saldo_medio_var13_medio_ult1     False\n",
       "saldo_medio_var13_medio_ult3     False\n",
       "saldo_medio_var17_hace2          False\n",
       "saldo_medio_var17_hace3          False\n",
       "saldo_medio_var17_ult1           False\n",
       "saldo_medio_var17_ult3           False\n",
       "saldo_medio_var29_hace2          False\n",
       "saldo_medio_var29_hace3          False\n",
       "saldo_medio_var29_ult1           False\n",
       "saldo_medio_var29_ult3           False\n",
       "saldo_medio_var33_hace2          False\n",
       "saldo_medio_var33_hace3          False\n",
       "saldo_medio_var33_ult1           False\n",
       "saldo_medio_var33_ult3           False\n",
       "saldo_medio_var44_hace2          False\n",
       "saldo_medio_var44_hace3          False\n",
       "saldo_medio_var44_ult1           False\n",
       "saldo_medio_var44_ult3           False\n",
       "var38                            False\n",
       "TARGET                           False\n",
       "Length: 371, dtype: bool"
      ]
     },
     "execution_count": 9,
     "metadata": {},
     "output_type": "execute_result"
    }
   ],
   "source": [
    "train_set.isna().any()"
   ]
  },
  {
   "cell_type": "code",
   "execution_count": 10,
   "metadata": {
    "scrolled": false
   },
   "outputs": [
    {
     "data": {
      "text/plain": [
       "ID                               False\n",
       "var3                             False\n",
       "var15                            False\n",
       "imp_ent_var16_ult1               False\n",
       "imp_op_var39_comer_ult1          False\n",
       "imp_op_var39_comer_ult3          False\n",
       "imp_op_var40_comer_ult1          False\n",
       "imp_op_var40_comer_ult3          False\n",
       "imp_op_var40_efect_ult1          False\n",
       "imp_op_var40_efect_ult3          False\n",
       "imp_op_var40_ult1                False\n",
       "imp_op_var41_comer_ult1          False\n",
       "imp_op_var41_comer_ult3          False\n",
       "imp_op_var41_efect_ult1          False\n",
       "imp_op_var41_efect_ult3          False\n",
       "imp_op_var41_ult1                False\n",
       "imp_op_var39_efect_ult1          False\n",
       "imp_op_var39_efect_ult3          False\n",
       "imp_op_var39_ult1                False\n",
       "imp_sal_var16_ult1               False\n",
       "ind_var1_0                       False\n",
       "ind_var1                         False\n",
       "ind_var2_0                       False\n",
       "ind_var2                         False\n",
       "ind_var5_0                       False\n",
       "ind_var5                         False\n",
       "ind_var6_0                       False\n",
       "ind_var6                         False\n",
       "ind_var8_0                       False\n",
       "ind_var8                         False\n",
       "                                 ...  \n",
       "saldo_medio_var12_ult3           False\n",
       "saldo_medio_var13_corto_hace2    False\n",
       "saldo_medio_var13_corto_hace3    False\n",
       "saldo_medio_var13_corto_ult1     False\n",
       "saldo_medio_var13_corto_ult3     False\n",
       "saldo_medio_var13_largo_hace2    False\n",
       "saldo_medio_var13_largo_hace3    False\n",
       "saldo_medio_var13_largo_ult1     False\n",
       "saldo_medio_var13_largo_ult3     False\n",
       "saldo_medio_var13_medio_hace2    False\n",
       "saldo_medio_var13_medio_hace3    False\n",
       "saldo_medio_var13_medio_ult1     False\n",
       "saldo_medio_var13_medio_ult3     False\n",
       "saldo_medio_var17_hace2          False\n",
       "saldo_medio_var17_hace3          False\n",
       "saldo_medio_var17_ult1           False\n",
       "saldo_medio_var17_ult3           False\n",
       "saldo_medio_var29_hace2          False\n",
       "saldo_medio_var29_hace3          False\n",
       "saldo_medio_var29_ult1           False\n",
       "saldo_medio_var29_ult3           False\n",
       "saldo_medio_var33_hace2          False\n",
       "saldo_medio_var33_hace3          False\n",
       "saldo_medio_var33_ult1           False\n",
       "saldo_medio_var33_ult3           False\n",
       "saldo_medio_var44_hace2          False\n",
       "saldo_medio_var44_hace3          False\n",
       "saldo_medio_var44_ult1           False\n",
       "saldo_medio_var44_ult3           False\n",
       "var38                            False\n",
       "Length: 370, dtype: bool"
      ]
     },
     "execution_count": 10,
     "metadata": {},
     "output_type": "execute_result"
    }
   ],
   "source": [
    "test_set.isna().any()"
   ]
  },
  {
   "cell_type": "markdown",
   "metadata": {},
   "source": [
    "### Dimensionality Reduction"
   ]
  },
  {
   "cell_type": "code",
   "execution_count": 13,
   "metadata": {},
   "outputs": [],
   "source": [
    "from sklearn.decomposition import TruncatedSVD, FastICA, PCA  \n",
    "from sklearn.random_projection import GaussianRandomProjection, SparseRandomProjection"
   ]
  },
  {
   "cell_type": "code",
   "execution_count": 14,
   "metadata": {},
   "outputs": [],
   "source": [
    "n_comp = 12\n",
    "\n",
    "# Truncated SVD\n",
    "tsvd = TruncatedSVD(n_components=n_comp, random_state=20)\n",
    "tsvd_train = tsvd.fit_transform(train_set.drop(['TARGET'], axis=1))\n",
    "tsvd_test = tsvd.transform(test_set)\n",
    "\n",
    "# PCA\n",
    "pca = PCA(n_components=n_comp, random_state=20)\n",
    "pca_train = pca.fit_transform(train_set.drop(['TARGET'], axis=1))\n",
    "pca_test = pca.transform(test_set)\n",
    "\n",
    "# ICA - inceased tolerance to 0.01 to avoid warning of not-converged\n",
    "ica = FastICA(n_components=n_comp, random_state=20, tol=0.01)   \n",
    "ica_train = ica.fit_transform(train_set.drop(['TARGET'], axis=1))\n",
    "ica_test = ica.transform(test_set)\n",
    "\n",
    "# GRP\n",
    "grp = GaussianRandomProjection(n_components=n_comp, eps=0.1, random_state=20)\n",
    "grp_train = grp.fit_transform(train_set.drop(['TARGET'], axis=1))\n",
    "grp_test = grp.transform(test_set)\n",
    "\n",
    "# SRP\n",
    "srp = SparseRandomProjection(n_components=n_comp, dense_output=True, random_state=20)\n",
    "srp_train = srp.fit_transform(train_set.drop(['TARGET'], axis=1))\n",
    "srp_test = srp.transform(test_set)"
   ]
  },
  {
   "cell_type": "code",
   "execution_count": 15,
   "metadata": {},
   "outputs": [],
   "source": [
    "work_columns = list(set(train_set.columns) - set(['TARGET']))\n",
    "\n",
    "for i in range(1, n_comp + 1):\n",
    "    train_set['pca_' + str(i)] = pca_train[:, i - 1].copy()\n",
    "    test_set['pca_' + str(i)] = pca_test[:, i - 1].copy()\n",
    "\n",
    "    train_set['ica_' + str(i)] = ica_train[:, i - 1].copy()\n",
    "    test_set['ica_' + str(i)] = ica_test[:, i - 1].copy()\n",
    "\n",
    "    train_set['tsvd_' + str(i)] = tsvd_train[:, i - 1].copy()\n",
    "    test_set['tsvd_' + str(i)] = tsvd_test[:, i - 1].copy()\n",
    "\n",
    "    train_set['grp_' + str(i)] = grp_train[:, i - 1].copy()\n",
    "    test_set['grp_' + str(i)] = grp_test[:, i - 1].copy()\n",
    "\n",
    "    train_set['srp_' + str(i)] = srp_train[:, i - 1].copy()\n",
    "    test_set['srp_' + str(i)] = srp_test[:, i - 1].copy()"
   ]
  },
  {
   "cell_type": "code",
   "execution_count": 16,
   "metadata": {},
   "outputs": [
    {
     "data": {
      "text/plain": [
       "(76020, 431)"
      ]
     },
     "execution_count": 16,
     "metadata": {},
     "output_type": "execute_result"
    }
   ],
   "source": [
    "train_set.shape"
   ]
  },
  {
   "cell_type": "code",
   "execution_count": 17,
   "metadata": {},
   "outputs": [
    {
     "data": {
      "text/plain": [
       "Index(['TARGET'], dtype='object')"
      ]
     },
     "execution_count": 17,
     "metadata": {},
     "output_type": "execute_result"
    }
   ],
   "source": [
    "train_set.columns.difference(test_set.columns)"
   ]
  },
  {
   "cell_type": "code",
   "execution_count": 18,
   "metadata": {},
   "outputs": [],
   "source": [
    "X = train_set.drop([\"TARGET\",\"ID\"],axis=1)\n",
    "y = train_set.TARGET.values\n",
    "\n",
    "# List of features\n",
    "features = train_set.columns[1:-1]"
   ]
  },
  {
   "cell_type": "code",
   "execution_count": 19,
   "metadata": {},
   "outputs": [],
   "source": [
    "id_test = test_set.ID\n",
    "df_test = test_set.drop([\"ID\"],axis=1)"
   ]
  },
  {
   "cell_type": "code",
   "execution_count": 20,
   "metadata": {},
   "outputs": [
    {
     "name": "stdout",
     "output_type": "stream",
     "text": [
      "(76020, 429) (76020,) (75818, 429)\n"
     ]
    }
   ],
   "source": [
    "print(X.shape, y.shape, df_test.shape)"
   ]
  },
  {
   "cell_type": "markdown",
   "metadata": {},
   "source": [
    "### Create a XGBoost Classifier model"
   ]
  },
  {
   "cell_type": "code",
   "execution_count": 21,
   "metadata": {},
   "outputs": [],
   "source": [
    "import xgboost as xgb"
   ]
  },
  {
   "cell_type": "code",
   "execution_count": 22,
   "metadata": {},
   "outputs": [],
   "source": [
    "from sklearn.model_selection import train_test_split\n",
    "\n",
    "seed = 7\n",
    "test_size = 0.2\n",
    "X_train, X_test, y_train, y_test = train_test_split(X, y, test_size=test_size, random_state=seed)\n",
    "eval_set = [(X_test, y_test)]"
   ]
  },
  {
   "cell_type": "code",
   "execution_count": 23,
   "metadata": {},
   "outputs": [
    {
     "data": {
      "text/plain": [
       "XGBRegressor(base_score=0.5, booster='gbtree', colsample_bylevel=1,\n",
       "       colsample_bytree=0.6, eta=0.025, eval_metric='auc', gamma=0,\n",
       "       learning_rate=0.1, max_delta_step=0, max_depth=5,\n",
       "       min_child_weight=7, missing=None, n_estimators=100, n_jobs=1,\n",
       "       nthread=4, objective='binary:logistic', random_state=0, reg_alpha=0,\n",
       "       reg_lambda=1, scale_pos_weight=1, seed=1, silent=1, subsample=0.9)"
      ]
     },
     "execution_count": 23,
     "metadata": {},
     "output_type": "execute_result"
    }
   ],
   "source": [
    "\n",
    "model = xgb.XGBRegressor(objective='binary:logistic',\n",
    "                          silent=1,\n",
    "                          nthread=4,\n",
    "                          eval_metric='auc',\n",
    "                          booster='gbtree',\n",
    "                          max_depth=5,\n",
    "                          min_child_weight=7,\n",
    "                          scale_pos_weight=1,\n",
    "                          subsample=0.9, \n",
    "                          colsample_bytree=0.6,\n",
    "                          eta=0.025,\n",
    "                          seed=1)\n",
    "\n",
    "model"
   ]
  },
  {
   "cell_type": "code",
   "execution_count": 24,
   "metadata": {},
   "outputs": [
    {
     "name": "stdout",
     "output_type": "stream",
     "text": [
      "[0]\tvalidation_0-logloss:0.611404\n",
      "Will train until validation_0-logloss hasn't improved in 10 rounds.\n",
      "[1]\tvalidation_0-logloss:0.544319\n",
      "[2]\tvalidation_0-logloss:0.489024\n",
      "[3]\tvalidation_0-logloss:0.442067\n",
      "[4]\tvalidation_0-logloss:0.40211\n",
      "[5]\tvalidation_0-logloss:0.367839\n",
      "[6]\tvalidation_0-logloss:0.33833\n",
      "[7]\tvalidation_0-logloss:0.312896\n",
      "[8]\tvalidation_0-logloss:0.290841\n",
      "[9]\tvalidation_0-logloss:0.271484\n",
      "[10]\tvalidation_0-logloss:0.254727\n",
      "[11]\tvalidation_0-logloss:0.239936\n",
      "[12]\tvalidation_0-logloss:0.226955\n",
      "[13]\tvalidation_0-logloss:0.215588\n",
      "[14]\tvalidation_0-logloss:0.205517\n",
      "[15]\tvalidation_0-logloss:0.196746\n",
      "[16]\tvalidation_0-logloss:0.188991\n",
      "[17]\tvalidation_0-logloss:0.182104\n",
      "[18]\tvalidation_0-logloss:0.176349\n",
      "[19]\tvalidation_0-logloss:0.171281\n",
      "[20]\tvalidation_0-logloss:0.166407\n",
      "[21]\tvalidation_0-logloss:0.162191\n",
      "[22]\tvalidation_0-logloss:0.158568\n",
      "[23]\tvalidation_0-logloss:0.155237\n",
      "[24]\tvalidation_0-logloss:0.152273\n",
      "[25]\tvalidation_0-logloss:0.149726\n",
      "[26]\tvalidation_0-logloss:0.147423\n",
      "[27]\tvalidation_0-logloss:0.145441\n",
      "[28]\tvalidation_0-logloss:0.143705\n",
      "[29]\tvalidation_0-logloss:0.142107\n",
      "[30]\tvalidation_0-logloss:0.140725\n",
      "[31]\tvalidation_0-logloss:0.139498\n",
      "[32]\tvalidation_0-logloss:0.138375\n",
      "[33]\tvalidation_0-logloss:0.137375\n",
      "[34]\tvalidation_0-logloss:0.136475\n",
      "[35]\tvalidation_0-logloss:0.135713\n",
      "[36]\tvalidation_0-logloss:0.135046\n",
      "[37]\tvalidation_0-logloss:0.134545\n",
      "[38]\tvalidation_0-logloss:0.13394\n",
      "[39]\tvalidation_0-logloss:0.133482\n",
      "[40]\tvalidation_0-logloss:0.133096\n",
      "[41]\tvalidation_0-logloss:0.132761\n",
      "[42]\tvalidation_0-logloss:0.132425\n",
      "[43]\tvalidation_0-logloss:0.13215\n",
      "[44]\tvalidation_0-logloss:0.131935\n",
      "[45]\tvalidation_0-logloss:0.131801\n",
      "[46]\tvalidation_0-logloss:0.131566\n",
      "[47]\tvalidation_0-logloss:0.131438\n",
      "[48]\tvalidation_0-logloss:0.131391\n",
      "[49]\tvalidation_0-logloss:0.131237\n",
      "[50]\tvalidation_0-logloss:0.131101\n",
      "[51]\tvalidation_0-logloss:0.131107\n",
      "[52]\tvalidation_0-logloss:0.130946\n",
      "[53]\tvalidation_0-logloss:0.130888\n",
      "[54]\tvalidation_0-logloss:0.130795\n",
      "[55]\tvalidation_0-logloss:0.130706\n",
      "[56]\tvalidation_0-logloss:0.130588\n",
      "[57]\tvalidation_0-logloss:0.130501\n",
      "[58]\tvalidation_0-logloss:0.130476\n",
      "[59]\tvalidation_0-logloss:0.130377\n",
      "[60]\tvalidation_0-logloss:0.130372\n",
      "[61]\tvalidation_0-logloss:0.130297\n",
      "[62]\tvalidation_0-logloss:0.130257\n",
      "[63]\tvalidation_0-logloss:0.130195\n",
      "[64]\tvalidation_0-logloss:0.130134\n",
      "[65]\tvalidation_0-logloss:0.1301\n",
      "[66]\tvalidation_0-logloss:0.130172\n",
      "[67]\tvalidation_0-logloss:0.130199\n",
      "[68]\tvalidation_0-logloss:0.130144\n",
      "[69]\tvalidation_0-logloss:0.130112\n",
      "[70]\tvalidation_0-logloss:0.130089\n",
      "[71]\tvalidation_0-logloss:0.130075\n",
      "[72]\tvalidation_0-logloss:0.130048\n",
      "[73]\tvalidation_0-logloss:0.130075\n",
      "[74]\tvalidation_0-logloss:0.130064\n",
      "[75]\tvalidation_0-logloss:0.130019\n",
      "[76]\tvalidation_0-logloss:0.130001\n",
      "[77]\tvalidation_0-logloss:0.130004\n",
      "[78]\tvalidation_0-logloss:0.129967\n",
      "[79]\tvalidation_0-logloss:0.129961\n",
      "[80]\tvalidation_0-logloss:0.129877\n",
      "[81]\tvalidation_0-logloss:0.129899\n",
      "[82]\tvalidation_0-logloss:0.12993\n",
      "[83]\tvalidation_0-logloss:0.129963\n",
      "[84]\tvalidation_0-logloss:0.129984\n",
      "[85]\tvalidation_0-logloss:0.129947\n",
      "[86]\tvalidation_0-logloss:0.129929\n",
      "[87]\tvalidation_0-logloss:0.129951\n",
      "[88]\tvalidation_0-logloss:0.12993\n",
      "[89]\tvalidation_0-logloss:0.129913\n",
      "[90]\tvalidation_0-logloss:0.129959\n",
      "Stopping. Best iteration:\n",
      "[80]\tvalidation_0-logloss:0.129877\n",
      "\n"
     ]
    },
    {
     "data": {
      "text/plain": [
       "XGBRegressor(base_score=0.5, booster='gbtree', colsample_bylevel=1,\n",
       "       colsample_bytree=0.6, eta=0.025, eval_metric='auc', gamma=0,\n",
       "       learning_rate=0.1, max_delta_step=0, max_depth=5,\n",
       "       min_child_weight=7, missing=None, n_estimators=100, n_jobs=1,\n",
       "       nthread=4, objective='binary:logistic', random_state=0, reg_alpha=0,\n",
       "       reg_lambda=1, scale_pos_weight=1, seed=1, silent=1, subsample=0.9)"
      ]
     },
     "execution_count": 24,
     "metadata": {},
     "output_type": "execute_result"
    }
   ],
   "source": [
    "# Fit with early stopping\n",
    "\n",
    "model.fit(X_train, y_train, early_stopping_rounds=10, eval_metric=\"logloss\", eval_set=eval_set, verbose=True)"
   ]
  },
  {
   "cell_type": "markdown",
   "metadata": {},
   "source": [
    "### Features Visualization"
   ]
  },
  {
   "cell_type": "code",
   "execution_count": 25,
   "metadata": {},
   "outputs": [
    {
     "data": {
      "image/png": "[encoded data removed]",
      "text/plain": [
       "<matplotlib.figure.Figure at 0x1118c6d68>"
      ]
     },
     "metadata": {},
     "output_type": "display_data"
    }
   ],
   "source": [
    "# plot the features importance\n",
    "fig, ax = plt.subplots(figsize=(12,18))\n",
    "xgb.plot_importance(model, max_num_features=50, height=0.8, ax=ax)\n",
    "plt.show()\n"
   ]
  },
  {
   "cell_type": "code",
   "execution_count": 26,
   "metadata": {
    "scrolled": true
   },
   "outputs": [
    {
     "data": {
      "text/plain": [
       "count    60816.000000\n",
       "mean        33.253272\n",
       "std         12.991514\n",
       "min          5.000000\n",
       "25%         23.000000\n",
       "50%         28.000000\n",
       "75%         40.000000\n",
       "max        104.000000\n",
       "Name: var15, dtype: float64"
      ]
     },
     "execution_count": 26,
     "metadata": {},
     "output_type": "execute_result"
    }
   ],
   "source": [
    "# var15 accounts for the most important feature \n",
    "# presume to be age of customers\n",
    "\n",
    "X_train['var15'].describe()"
   ]
  },
  {
   "cell_type": "code",
   "execution_count": 27,
   "metadata": {
    "scrolled": true
   },
   "outputs": [
    {
     "data": {
      "image/png": "[encoded data removed]",
      "text/plain": [
       "<matplotlib.figure.Figure at 0x117ebceb8>"
      ]
     },
     "metadata": {},
     "output_type": "display_data"
    }
   ],
   "source": [
    "# plot a histogram of var15\n",
    "\n",
    "X_train['var15'].hist(bins=100)\n",
    "plt.show()"
   ]
  },
  {
   "cell_type": "code",
   "execution_count": 28,
   "metadata": {
    "scrolled": false
   },
   "outputs": [],
   "source": [
    "y_pred = model.predict(df_test)\n",
    "predictions = [round(value) for value in y_pred]"
   ]
  },
  {
   "cell_type": "markdown",
   "metadata": {},
   "source": [
    "### Evaluate model performance"
   ]
  },
  {
   "cell_type": "code",
   "execution_count": 30,
   "metadata": {},
   "outputs": [
    {
     "name": "stdout",
     "output_type": "stream",
     "text": [
      "Accuracy: 96.02%\n"
     ]
    }
   ],
   "source": [
    "# evaluate predictions\n",
    "from sklearn.metrics import accuracy_score\n",
    "\n",
    "y_trunc = y[:len(predictions)]\n",
    "\n",
    "accuracy = accuracy_score(y_trunc, predictions)\n",
    "print(\"Accuracy: %.2f%%\" % (accuracy * 100.0))"
   ]
  },
  {
   "cell_type": "code",
   "execution_count": 31,
   "metadata": {},
   "outputs": [],
   "source": [
    "import pickle\n",
    "\n",
    "def save_model_pickle(estimator, model_url):             \n",
    "    save_it = model_url\n",
    "    pickle.dump(estimator, open(save_it, 'wb'))       \n",
    "\n",
    "submission = pd.DataFrame()\n",
    "submission['ID'] = id_test\n",
    "submission['y'] = y_pred\n",
    "\n",
    "submission.to_csv('satis_sub.csv', index=False)\n",
    "save_model_pickle(model, 'satis_Model.csv')\n"
   ]
  }
 ],
 "metadata": {
  "kernelspec": {
   "display_name": "Python 3",
   "language": "python",
   "name": "python3"
  },
  "language_info": {
   "codemirror_mode": {
    "name": "ipython",
    "version": 3
   },
   "file_extension": ".py",
   "mimetype": "text/x-python",
   "name": "python",
   "nbconvert_exporter": "python",
   "pygments_lexer": "ipython3",
   "version": "3.6.2"
  }
 },
 "nbformat": 4,
 "nbformat_minor": 2
}
